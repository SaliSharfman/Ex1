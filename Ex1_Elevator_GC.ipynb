{
  "nbformat": 4,
  "nbformat_minor": 0,
  "metadata": {
    "colab": {
      "name": "Ex1_Elevator_GC.ipynb",
      "provenance": [],
      "collapsed_sections": [],
      "authorship_tag": "ABX9TyPKUll+LM7HbTTmh3yZOSBK",
      "include_colab_link": true
    },
    "kernelspec": {
      "name": "python3",
      "display_name": "Python 3"
    },
    "language_info": {
      "name": "python"
    }
  },
  "cells": [
    {
      "cell_type": "markdown",
      "metadata": {
        "id": "view-in-github",
        "colab_type": "text"
      },
      "source": [
        "<a href=\"https://colab.research.google.com/github/SaliSharfman/Ex1/blob/main/Ex1_Elevator_GC.ipynb\" target=\"_parent\"><img src=\"https://colab.research.google.com/assets/colab-badge.svg\" alt=\"Open In Colab\"/></a>"
      ]
    },
    {
      "cell_type": "code",
      "metadata": {
        "id": "rMPBANQP8Epr"
      },
      "source": [
        ""
      ],
      "execution_count": null,
      "outputs": []
    },
    {
      "cell_type": "markdown",
      "metadata": {
        "id": "jBz0RgVy8O0J"
      },
      "source": [
        ""
      ]
    },
    {
      "cell_type": "markdown",
      "metadata": {
        "id": "2EGK7RYs8FWd"
      },
      "source": [
        "Ex1 Elevator"
      ]
    },
    {
      "cell_type": "markdown",
      "metadata": {
        "id": "8U5NNAgX8QTS"
      },
      "source": [
        "11/5/2021 This is offline algorithms of elevator algorithms,we going to split this oject to 5 classes Elevator,CallForElevator,Building,Algorithm and main \n",
        "we going to seed building class with json data. CallForElevator with csv data\n",
        ".Algrotihm class uses building as argument for its constructor and callforelevator functions gets CallForElevator interface ,cmd function get index of elevator but this might be changed ."
      ]
    }
  ]
}